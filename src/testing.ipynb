{
 "cells": [
  {
   "cell_type": "markdown",
   "metadata": {},
   "source": [
    "## Downloader"
   ]
  },
  {
   "cell_type": "markdown",
   "metadata": {},
   "source": [
    "### usdt symbols"
   ]
  },
  {
   "cell_type": "code",
   "execution_count": null,
   "metadata": {},
   "outputs": [],
   "source": [
    "import nest_asyncio\n",
    "nest_asyncio.apply()"
   ]
  },
  {
   "cell_type": "code",
   "execution_count": null,
   "metadata": {},
   "outputs": [],
   "source": [
    "from downloader import Downloader\n",
    "downloader = Downloader()"
   ]
  },
  {
   "cell_type": "code",
   "execution_count": null,
   "metadata": {},
   "outputs": [],
   "source": [
    "await downloader.download_trading_symbols()"
   ]
  },
  {
   "cell_type": "code",
   "execution_count": null,
   "metadata": {},
   "outputs": [],
   "source": [
    "import yaml\n",
    "with open('configs.yaml', 'r') as file:\n",
    "    configs = yaml.safe_load(file)\n",
    "    \n",
    "last_launch_time = configs['last_launch_time']\n",
    "exclude_symbols = configs['exclude_symbols']\n",
    "symbols = downloader.load_trading_symbols(last_launch_time, exclude_symbols)\n",
    "print(len(symbols))\n",
    "symbols"
   ]
  },
  {
   "cell_type": "markdown",
   "metadata": {},
   "source": [
    "### fetch recent klines"
   ]
  },
  {
   "cell_type": "code",
   "execution_count": null,
   "metadata": {},
   "outputs": [],
   "source": [
    "from downloader import Downloader\n",
    "downloader = Downloader()"
   ]
  },
  {
   "cell_type": "code",
   "execution_count": null,
   "metadata": {},
   "outputs": [],
   "source": [
    "symbols = downloader.load_usdt_symbols()['Symbol'].tolist()\n",
    "print(len(symbols))\n",
    "# symbols = [\"BTCUSDT\", \"ETHUSDT\", \"XRPUSDT\", \"ADAUSDT\", \"DOGEUSDT\"]\n",
    "intervals = ['1 month', '1 week', '1 day', '6 hours', '1 hour']"
   ]
  },
  {
   "cell_type": "code",
   "execution_count": null,
   "metadata": {},
   "outputs": [],
   "source": [
    "processed_results, klines_complete, incomplete_klines = await downloader.fetch_recent_klines(symbols, intervals)\n",
    "print(len(processed_results), klines_complete, len(incomplete_klines))"
   ]
  },
  {
   "cell_type": "code",
   "execution_count": null,
   "metadata": {},
   "outputs": [],
   "source": [
    "# processed_results[('BTCUSDT', '1 hour')]"
   ]
  },
  {
   "cell_type": "markdown",
   "metadata": {},
   "source": [
    "## Processor"
   ]
  },
  {
   "cell_type": "markdown",
   "metadata": {},
   "source": [
    "### processing klines"
   ]
  },
  {
   "cell_type": "code",
   "execution_count": null,
   "metadata": {},
   "outputs": [],
   "source": [
    "from processor import Processor\n",
    "processor = Processor()"
   ]
  },
  {
   "cell_type": "code",
   "execution_count": null,
   "metadata": {},
   "outputs": [],
   "source": [
    "import yaml\n",
    "with open('configs.yaml', 'r') as file:\n",
    "    configs = yaml.safe_load(file)\n",
    "    \n",
    "# intervals = configs['intervals']\n",
    "intervals = [\"5 minutes\"]\n",
    "processor.create_env_data(intervals=intervals, reprocess=True, recalculate_constants=False, batch_size=None)"
   ]
  },
  {
   "cell_type": "code",
   "execution_count": null,
   "metadata": {},
   "outputs": [],
   "source": [
    "processed_klines, processing_issues = processor.process_recent_klines(processed_results)"
   ]
  },
  {
   "cell_type": "code",
   "execution_count": null,
   "metadata": {},
   "outputs": [],
   "source": [
    "processed_klines.keys()"
   ]
  },
  {
   "cell_type": "markdown",
   "metadata": {},
   "source": [
    "## Plotter"
   ]
  },
  {
   "cell_type": "markdown",
   "metadata": {},
   "source": [
    "### plotting raw klines"
   ]
  },
  {
   "cell_type": "code",
   "execution_count": null,
   "metadata": {},
   "outputs": [],
   "source": [
    "from plotter import Plotter\n",
    "plotter = Plotter()"
   ]
  },
  {
   "cell_type": "code",
   "execution_count": null,
   "metadata": {},
   "outputs": [],
   "source": [
    "symbol = \"SHIB1000USDT\"\n",
    "interval = \"1 day\"\n",
    "df = plotter.load_data(symbol, interval)"
   ]
  },
  {
   "cell_type": "code",
   "execution_count": null,
   "metadata": {},
   "outputs": [],
   "source": [
    "plotter.plot_price_history_and_stats(df, symbol)"
   ]
  },
  {
   "cell_type": "code",
   "execution_count": null,
   "metadata": {},
   "outputs": [],
   "source": [
    "interval = \"1 hour\"\n",
    "plotter.plot_raw_klines(interval)"
   ]
  },
  {
   "cell_type": "code",
   "execution_count": null,
   "metadata": {},
   "outputs": [],
   "source": [
    "plotter.check_raw_klines(\"5 minutes\")"
   ]
  },
  {
   "cell_type": "markdown",
   "metadata": {},
   "source": [
    "### plotting processed klines"
   ]
  },
  {
   "cell_type": "code",
   "execution_count": null,
   "metadata": {},
   "outputs": [],
   "source": [
    "from plotter import Plotter\n",
    "plotter = Plotter()"
   ]
  },
  {
   "cell_type": "code",
   "execution_count": null,
   "metadata": {},
   "outputs": [],
   "source": [
    "potential_stablecoins = plotter.identify_potential_stablecoins(threshold=0.05, interval=\"1 day\")"
   ]
  },
  {
   "cell_type": "code",
   "execution_count": null,
   "metadata": {},
   "outputs": [],
   "source": [
    "# intervals = [\"1 month\", \"1 week\", \"1 day\", \"6 hours\", \"1 hour\", \"15 minutes\"]\n",
    "intervals = [\"15 minutes\"]\n",
    "\n",
    "for interval in intervals:\n",
    "    plotter.plot_efficient_symbol_comparison(\n",
    "        interval=interval,\n",
    "        num_symbols=None,\n",
    "        use_processed=True,\n",
    "        use_all_symbols=True,\n",
    "        exclude_symbols=['USDCUSDT'],\n",
    "        show_all_plots=True,\n",
    "    )"
   ]
  },
  {
   "cell_type": "code",
   "execution_count": null,
   "metadata": {},
   "outputs": [],
   "source": [
    "plotter.plot_recent_data(processed_klines)"
   ]
  },
  {
   "cell_type": "markdown",
   "metadata": {},
   "source": [
    "## CryptoEnv"
   ]
  },
  {
   "cell_type": "markdown",
   "metadata": {},
   "source": [
    "### serial load_klines"
   ]
  },
  {
   "cell_type": "code",
   "execution_count": null,
   "metadata": {},
   "outputs": [],
   "source": [
    "import os\n",
    "import time\n",
    "import numpy as np\n",
    "from crypto_env import CryptoEnv, EnvState\n",
    "os.environ['XLA_PYTHON_CLIENT_PREALLOCATE'] = 'false'\n",
    "os.environ['XLA_PYTHON_CLIENT_MEM_FRACTION'] = '0.1'\n",
    "\n",
    "# Initialize the CryptoEnv\n",
    "start_time = time.time()\n",
    "env = CryptoEnv(train_configs={\n",
    "    'load_run': None,\n",
    "    'jax_seed': 27,\n",
    "    'train_envs': 256,\n",
    "    'train_val_envs': 32,\n",
    "    'val_envs': 64,\n",
    "    'parameters': {'some_architecture': {'action_dim': 3}},\n",
    "    'architecture': 'some_architecture',\n",
    "    'cumulative_reward_scaling_x': 1.0,\n",
    "    'cumulative_reward_scaling_y': 1.0,\n",
    "})\n",
    "init_time = time.time() - start_time\n",
    "print(f\"Environment initialization time: {init_time:.2f} seconds\")"
   ]
  },
  {
   "cell_type": "code",
   "execution_count": null,
   "metadata": {},
   "outputs": [],
   "source": [
    "env.interval_timedelta"
   ]
  },
  {
   "cell_type": "code",
   "execution_count": null,
   "metadata": {},
   "outputs": [],
   "source": [
    "# Choose a random symbol and timestamp\n",
    "symbol = np.random.choice(env.train_symbols)\n",
    "interval = env.configs['intervals'][-1]\n",
    "timestamps = env.data[interval][symbol][:, -1]\n",
    "timestamp = np.random.choice(timestamps)\n",
    "\n",
    "# Create a dummy EnvState for testing\n",
    "dummy_state = EnvState(env_type='train')\n",
    "dummy_state.reset_history(env.configs['sequence_length'])\n",
    "\n",
    "# Warm-up run\n",
    "_ = env.load_klines(symbol, timestamp, 'val')\n",
    "_ = env.create_observation(_, dummy_state.history)"
   ]
  },
  {
   "cell_type": "code",
   "execution_count": null,
   "metadata": {},
   "outputs": [],
   "source": [
    "import time\n",
    "import numpy as np\n",
    "\n",
    "# Number of iterations for each speed test\n",
    "n_iterations = 256 + 64 * 21\n",
    "\n",
    "# Number of times to repeat the speed test\n",
    "n_repeats = 10\n",
    "\n",
    "# List to store the total times for each repeat\n",
    "total_times = []\n",
    "\n",
    "for _ in range(n_repeats):\n",
    "    start_time = time.time()\n",
    "\n",
    "    for _ in range(n_iterations):\n",
    "        klines = env.load_klines(symbol, timestamp)\n",
    "        # observation = env.create_observation(klines, dummy_state.history)\n",
    "\n",
    "    end_time = time.time()\n",
    "    total_time = end_time - start_time\n",
    "    total_times.append(total_time)\n",
    "\n",
    "# Calculate mean and variance\n",
    "mean_time = np.mean(total_times)\n",
    "variance_time = np.var(total_times)\n",
    "\n",
    "print(f\"Mean time for {n_iterations} iterations: {mean_time:.6f} seconds\")\n",
    "print(f\"Variance of time: {variance_time:.6f} seconds^2\")\n",
    "print(f\"Average iterations per second: {n_iterations/mean_time:.2f}\")\n",
    "\n",
    "# Optional: Check the shape of the returned observation\n",
    "# print(f\"Shape of returned observation: {observation.shape}\")\n",
    "\n",
    "# If you want to see all the individual times:\n",
    "for i, t in enumerate(total_times):\n",
    "    print(f\"Run {i+1}: {t:.6f} seconds\")"
   ]
  },
  {
   "cell_type": "markdown",
   "metadata": {},
   "source": [
    "### parallel load_klines"
   ]
  },
  {
   "cell_type": "code",
   "execution_count": null,
   "metadata": {},
   "outputs": [],
   "source": [
    "import os\n",
    "import time\n",
    "from crypto_env_jax import CryptoEnvJax\n",
    "os.environ['XLA_PYTHON_CLIENT_PREALLOCATE'] = 'false'\n",
    "os.environ['XLA_PYTHON_CLIENT_MEM_FRACTION'] = '0.1'\n",
    "\n",
    "# Initialize the environment\n",
    "start_time = time.time()\n",
    "env_jax = CryptoEnvJax(train_configs={\n",
    "    'load_run': None,\n",
    "    'jax_seed': 42,\n",
    "    'train_envs': 256,\n",
    "    'train_val_envs': 32,\n",
    "    'val_envs': 64,\n",
    "    'parameters': {'some_architecture': {'action_dim': 3}},\n",
    "    'architecture': 'some_architecture'\n",
    "})\n",
    "init_time = time.time() - start_time\n",
    "print(f\"Environment initialization time: {init_time:.2f} seconds\")"
   ]
  },
  {
   "cell_type": "code",
   "execution_count": null,
   "metadata": {},
   "outputs": [],
   "source": [
    "env_jax.data.shape"
   ]
  },
  {
   "cell_type": "code",
   "execution_count": null,
   "metadata": {},
   "outputs": [],
   "source": [
    "import time\n",
    "import random\n",
    "\n",
    "# Choose a random symbol\n",
    "symbol = random.choice(env_jax.train_symbols)\n",
    "symbol_index = env_jax.symbol_to_index[symbol]\n",
    "\n",
    "# Get the timestamp range for the chosen symbol\n",
    "shortest_interval_index = env_jax.interval_to_index[env_jax.configs['intervals'][-1]]\n",
    "timestamps = env_jax.data[shortest_interval_index, symbol_index, :, 7]\n",
    "valid_timestamps = timestamps[timestamps != 0]\n",
    "\n",
    "# Choose a random timestamp within the valid range\n",
    "timestamp = random.choice(valid_timestamps)\n",
    "\n",
    "start_time = time.time()\n",
    "klines = env_jax.load_klines([symbol], [timestamp])\n",
    "end_time = time.time()\n",
    "\n",
    "print(f\"Random symbol: {symbol}\")\n",
    "print(f\"Random timestamp: {timestamp}\")\n",
    "print(f\"Time taken to load klines: {end_time - start_time:.6f} seconds\")\n",
    "print(f\"Klines shape: {klines.shape}\")"
   ]
  },
  {
   "cell_type": "code",
   "execution_count": null,
   "metadata": {},
   "outputs": [],
   "source": [
    "import time\n",
    "import random\n",
    "import numpy as np\n",
    "\n",
    "# Number of symbols and timestamps to test\n",
    "num_samples = 256 + 64 * 21 * 1\n",
    "\n",
    "# Choose random symbols\n",
    "symbols = random.choices(env_jax.train_symbols, k=num_samples)\n",
    "\n",
    "# Initialize list to store timestamps\n",
    "timestamps = []\n",
    "\n",
    "for symbol in symbols:\n",
    "    symbol_index = env_jax.symbol_to_index[symbol]\n",
    "    \n",
    "    # Get the timestamp range for the chosen symbol\n",
    "    shortest_interval_index = env_jax.interval_to_index[env_jax.configs['intervals'][-1]]\n",
    "    symbol_timestamps = env_jax.data[shortest_interval_index, symbol_index, :, 7]\n",
    "    valid_timestamps = symbol_timestamps[symbol_timestamps != 0]\n",
    "    \n",
    "    # Choose a random timestamp within the valid range\n",
    "    timestamps.append(random.choice(valid_timestamps))\n",
    "\n",
    "# Convert timestamps to a numpy array\n",
    "timestamps = np.array(timestamps)\n",
    "\n",
    "# print(f\"Random symbols: {symbols}\")\n",
    "# print(f\"Random timestamps: {timestamps}\")\n",
    "\n",
    "# Measure time to load multiple klines\n",
    "start_time = time.time()\n",
    "klines = env_jax.load_klines(symbols, timestamps)\n",
    "end_time = time.time()\n",
    "\n",
    "print(f\"Time taken to load {num_samples} klines: {end_time - start_time:.6f} seconds\")\n",
    "print(f\"Klines shape: {klines.shape}\")\n",
    "\n",
    "# Calculate average loading time per kline\n",
    "avg_time_per_kline = (end_time - start_time) / num_samples\n",
    "print(f\"Average time per kline: {avg_time_per_kline:.6f} seconds\")"
   ]
  },
  {
   "cell_type": "code",
   "execution_count": null,
   "metadata": {},
   "outputs": [],
   "source": [
    "import time\n",
    "import random\n",
    "import numpy as np\n",
    "\n",
    "# Number of samples to test\n",
    "num_samples = 256 + 64 * 21\n",
    "\n",
    "# Choose random symbols and timestamps\n",
    "symbols = random.choices(env_jax.train_symbols, k=num_samples)\n",
    "timestamps = []\n",
    "\n",
    "for symbol in symbols:\n",
    "    symbol_index = env_jax.symbol_to_index[symbol]\n",
    "    shortest_interval_index = env_jax.interval_to_index[env_jax.configs['intervals'][-1]]\n",
    "    symbol_timestamps = env_jax.data[shortest_interval_index, symbol_index, :, 7]\n",
    "    valid_timestamps = symbol_timestamps[symbol_timestamps != 0]\n",
    "    timestamps.append(random.choice(valid_timestamps))\n",
    "\n",
    "timestamps = np.array(timestamps)\n",
    "\n",
    "# Load klines sequentially\n",
    "start_time_sequential = time.time()\n",
    "sequential_klines = []\n",
    "for symbol, timestamp in zip(symbols, timestamps):\n",
    "    sequential_klines.append(env_jax.load_klines([symbol], [timestamp])[0])\n",
    "sequential_klines = np.array(sequential_klines)\n",
    "end_time_sequential = time.time()\n",
    "\n",
    "# Load klines all at once\n",
    "start_time_batch = time.time()\n",
    "batch_klines = env_jax.load_klines(symbols, timestamps)\n",
    "end_time_batch = time.time()\n",
    "\n",
    "# Compare results\n",
    "are_equal = np.allclose(sequential_klines, batch_klines)\n",
    "max_diff = np.max(np.abs(sequential_klines - batch_klines))\n",
    "\n",
    "# Print results\n",
    "print(f\"Number of samples: {num_samples}\")\n",
    "print(f\"Sequential loading time: {end_time_sequential - start_time_sequential:.6f} seconds\")\n",
    "print(f\"Batch loading time: {end_time_batch - start_time_batch:.6f} seconds\")\n",
    "print(f\"Are the results equal? {are_equal}\")\n",
    "print(f\"Maximum difference between arrays: {max_diff}\")\n",
    "print(f\"Sequential klines shape: {sequential_klines.shape}\")\n",
    "print(f\"Batch klines shape: {batch_klines.shape}\")\n",
    "\n",
    "# Calculate and print speedup\n",
    "speedup = (end_time_sequential - start_time_sequential) / (end_time_batch - start_time_batch)\n",
    "print(f\"Speedup factor: {speedup:.2f}x\")\n",
    "\n",
    "# If results are not equal, print more details\n",
    "if not are_equal:\n",
    "    print(\"\\nDetailed comparison:\")\n",
    "    for i, (seq, batch) in enumerate(zip(sequential_klines, batch_klines)):\n",
    "        if not np.allclose(seq, batch):\n",
    "            print(f\"Mismatch at index {i}:\")\n",
    "            print(f\"  Symbol: {symbols[i]}, Timestamp: {timestamps[i]}\")\n",
    "            print(f\"  Max difference: {np.max(np.abs(seq - batch))}\")\n",
    "            print(f\"  Sequential shape: {seq.shape}, Batch shape: {batch.shape}\")\n",
    "            break"
   ]
  },
  {
   "cell_type": "markdown",
   "metadata": {},
   "source": [
    "### comparison"
   ]
  },
  {
   "cell_type": "code",
   "execution_count": null,
   "metadata": {},
   "outputs": [],
   "source": [
    "import time\n",
    "import random\n",
    "import numpy as np\n",
    "\n",
    "# Number of samples to test\n",
    "num_samples = 256 * 1 + 64 * 21 * 1 + 0\n",
    "\n",
    "# Choose random symbols and timestamps\n",
    "symbols = random.choices(env_jax.train_symbols, k=num_samples)\n",
    "timestamps = []\n",
    "\n",
    "for symbol in symbols:\n",
    "    symbol_index = env_jax.symbol_to_index[symbol]\n",
    "    longest_interval_index = env_jax.interval_to_index[env_jax.configs['intervals'][-1]]\n",
    "    symbol_timestamps = env_jax.data[longest_interval_index, symbol_index, :, 7]\n",
    "    valid_timestamps = symbol_timestamps[symbol_timestamps != 0]\n",
    "    timestamps.append(random.choice(valid_timestamps[4:-1]))\n",
    "\n",
    "timestamps = np.array(timestamps)\n",
    "\n",
    "# Load klines sequentially using env\n",
    "start_time_sequential_env = time.time()\n",
    "sequential_klines_env = []\n",
    "for symbol, timestamp in zip(symbols, timestamps):\n",
    "    sequential_klines_env.append(env.load_klines(symbol, timestamp))\n",
    "sequential_klines_env = np.array(sequential_klines_env)\n",
    "end_time_sequential_env = time.time()\n",
    "\n",
    "# Load klines sequentially using env_jax\n",
    "start_time_sequential_jax = time.time()\n",
    "sequential_klines_jax = []\n",
    "for symbol, timestamp in zip(symbols, timestamps):\n",
    "    sequential_klines_jax.append(env_jax.load_klines([symbol], [timestamp])[0])\n",
    "sequential_klines_jax = np.array(sequential_klines_jax)\n",
    "end_time_sequential_jax = time.time()\n",
    "\n",
    "# Load klines all at once using env_jax\n",
    "start_time_batch = time.time()\n",
    "batch_klines = env_jax.load_klines(symbols, timestamps)\n",
    "end_time_batch = time.time()\n",
    "\n",
    "# Compare results\n",
    "are_equal_env_jax = np.allclose(sequential_klines_env, sequential_klines_jax)\n",
    "are_equal_env_batch = np.allclose(sequential_klines_env, batch_klines)\n",
    "are_equal_jax_batch = np.allclose(sequential_klines_jax, batch_klines)\n",
    "max_diff_env_jax = np.max(np.abs(sequential_klines_env - sequential_klines_jax))\n",
    "max_diff_env_batch = np.max(np.abs(sequential_klines_env - batch_klines))\n",
    "max_diff_jax_batch = np.max(np.abs(sequential_klines_jax - batch_klines))\n",
    "\n",
    "# Print results\n",
    "print(f\"Number of samples: {num_samples}\")\n",
    "print(f\"Sequential loading time (env): {end_time_sequential_env - start_time_sequential_env:.6f} seconds\")\n",
    "print(f\"Sequential loading time (env_jax): {end_time_sequential_jax - start_time_sequential_jax:.6f} seconds\")\n",
    "print(f\"Batch loading time (env_jax): {end_time_batch - start_time_batch:.6f} seconds\")\n",
    "print(f\"Are env and env_jax sequential results equal? {are_equal_env_jax}\")\n",
    "print(f\"Are env sequential and env_jax batch results equal? {are_equal_env_batch}\")\n",
    "print(f\"Are env_jax sequential and batch results equal? {are_equal_jax_batch}\")\n",
    "print(f\"Maximum difference between env and env_jax sequential: {max_diff_env_jax}\")\n",
    "print(f\"Maximum difference between env sequential and env_jax batch: {max_diff_env_batch}\")\n",
    "print(f\"Maximum difference between env_jax sequential and batch: {max_diff_jax_batch}\")\n",
    "print(f\"Sequential klines shape (env): {sequential_klines_env.shape}\")\n",
    "print(f\"Sequential klines shape (env_jax): {sequential_klines_jax.shape}\")\n",
    "print(f\"Batch klines shape (env_jax): {batch_klines.shape}\")\n",
    "\n",
    "# Calculate and print speedups\n",
    "speedup_env_vs_jax = (end_time_sequential_env - start_time_sequential_env) / (end_time_sequential_jax - start_time_sequential_jax)\n",
    "speedup_env_vs_batch = (end_time_sequential_env - start_time_sequential_env) / (end_time_batch - start_time_batch)\n",
    "speedup_jax_vs_batch = (end_time_sequential_jax - start_time_sequential_jax) / (end_time_batch - start_time_batch)\n",
    "print(f\"Speedup factor (env_jax sequential vs env): {speedup_env_vs_jax:.2f}x\")\n",
    "print(f\"Speedup factor (env_jax batch vs env): {speedup_env_vs_batch:.2f}x\")\n",
    "print(f\"Speedup factor (env_jax batch vs env_jax sequential): {speedup_jax_vs_batch:.2f}x\")\n",
    "\n",
    "# If results are not equal, print more details\n",
    "if not (are_equal_env_jax and are_equal_env_batch and are_equal_jax_batch):\n",
    "    print(\"\\nDetailed comparison:\")\n",
    "    for i, (env_seq, jax_seq, batch) in enumerate(zip(sequential_klines_env, sequential_klines_jax, batch_klines)):\n",
    "        if not (np.allclose(env_seq, jax_seq) and np.allclose(env_seq, batch) and np.allclose(jax_seq, batch)):\n",
    "            print(f\"Mismatch at index {i}:\")\n",
    "            print(f\"  Symbol: {symbols[i]}, Timestamp: {timestamps[i]}\")\n",
    "            print(f\"  Max difference (env vs jax sequential): {np.max(np.abs(env_seq - jax_seq))}\")\n",
    "            print(f\"  Max difference (env vs batch): {np.max(np.abs(env_seq - batch))}\")\n",
    "            print(f\"  Max difference (jax sequential vs batch): {np.max(np.abs(jax_seq - batch))}\")\n",
    "            print(f\"  Env sequential shape: {env_seq.shape}\")\n",
    "            print(f\"  Jax sequential shape: {jax_seq.shape}\")\n",
    "            print(f\"  Batch shape: {batch.shape}\")\n",
    "            break"
   ]
  },
  {
   "cell_type": "code",
   "execution_count": null,
   "metadata": {},
   "outputs": [],
   "source": [
    "print(sequential_klines_env[0])\n",
    "print(sequential_klines_env[0].shape)\n",
    "print(sequential_klines_jax[0])\n",
    "print(sequential_klines_jax[0].shape)\n",
    "print(batch_klines[0])\n",
    "print(batch_klines[0].shape)"
   ]
  },
  {
   "cell_type": "markdown",
   "metadata": {},
   "source": [
    "### utils init"
   ]
  },
  {
   "cell_type": "code",
   "execution_count": null,
   "metadata": {},
   "outputs": [],
   "source": []
  },
  {
   "cell_type": "markdown",
   "metadata": {},
   "source": [
    "## Actor"
   ]
  },
  {
   "cell_type": "code",
   "execution_count": null,
   "metadata": {},
   "outputs": [],
   "source": [
    "import nest_asyncio\n",
    "nest_asyncio.apply()"
   ]
  },
  {
   "cell_type": "code",
   "execution_count": null,
   "metadata": {},
   "outputs": [],
   "source": [
    "from actor import Actor\n",
    "actor = await Actor().initialize()"
   ]
  },
  {
   "cell_type": "code",
   "execution_count": null,
   "metadata": {},
   "outputs": [],
   "source": [
    "processed_klines, klines_complete, incomplete_klines, processing_issues, last_klines = await actor.fetch_and_process_klines(intervals_back=24*30 + 10)\n",
    "combined_klines = actor.combine_recent_klines(processed_klines)\n",
    "observations = actor.create_observation(combined_klines)"
   ]
  },
  {
   "cell_type": "code",
   "execution_count": null,
   "metadata": {},
   "outputs": [],
   "source": [
    "processed_klines  # 1726437600000"
   ]
  },
  {
   "cell_type": "code",
   "execution_count": null,
   "metadata": {},
   "outputs": [],
   "source": [
    "actions, action_probs, q_action, v = actor.get_action_values(observations)"
   ]
  },
  {
   "cell_type": "code",
   "execution_count": null,
   "metadata": {},
   "outputs": [],
   "source": [
    "df = actor.create_action_summary(actions, action_probs, q_action, v, last_klines, create_df=True)"
   ]
  },
  {
   "cell_type": "code",
   "execution_count": null,
   "metadata": {},
   "outputs": [],
   "source": [
    "len(df)"
   ]
  },
  {
   "cell_type": "code",
   "execution_count": null,
   "metadata": {},
   "outputs": [],
   "source": [
    "df.head(10)"
   ]
  },
  {
   "cell_type": "code",
   "execution_count": null,
   "metadata": {},
   "outputs": [],
   "source": [
    "from crypto_env import CryptoEnv\n",
    "\n",
    "train_parameters = {\n",
    "    \"load_run\": None,\n",
    "    \"train_frames\": 0}\n",
    "\n",
    "env = CryptoEnv(train_configs=train_parameters)"
   ]
  },
  {
   "cell_type": "code",
   "execution_count": null,
   "metadata": {},
   "outputs": [],
   "source": [
    "import numpy as np\n",
    "\n",
    "symbol = \"BTCUSDT\"\n",
    "timestamp = 1723816800000 + 60 * 60 * 1000\n",
    "test_klines = env.load_klines(symbol, timestamp)\n",
    "\n",
    "symbol_state = actor.state.symbol_states[symbol]\n",
    "\n",
    "test_obs = np.hstack((test_klines, symbol_state['history']['action_history'], symbol_state['history']['cumulative_reward_history']))\n",
    "\n",
    "actions, action_probs, q_action, v = actor.get_action_values(np.expand_dims(test_obs, axis=0))\n",
    "\n",
    "print(actions, action_probs, q_action, v)"
   ]
  },
  {
   "cell_type": "code",
   "execution_count": null,
   "metadata": {},
   "outputs": [],
   "source": [
    "test_obs - observations"
   ]
  },
  {
   "cell_type": "code",
   "execution_count": null,
   "metadata": {},
   "outputs": [],
   "source": [
    "test_obs[:,0]"
   ]
  },
  {
   "cell_type": "code",
   "execution_count": null,
   "metadata": {},
   "outputs": [],
   "source": [
    "observations[0,:,0]"
   ]
  },
  {
   "cell_type": "code",
   "execution_count": null,
   "metadata": {},
   "outputs": [],
   "source": [
    "a = np.array([1,2,3,4,5,6,7,8,9,10])\n",
    "i = np.searchsorted(a, 8.5, side='left')\n",
    "print(i, a[:i])"
   ]
  },
  {
   "cell_type": "code",
   "execution_count": null,
   "metadata": {},
   "outputs": [],
   "source": [
    "summary = actor.create_action_summary(actions, action_probs, q_action, v, last_klines)\n",
    "len(summary)"
   ]
  },
  {
   "cell_type": "code",
   "execution_count": null,
   "metadata": {},
   "outputs": [],
   "source": [
    "chosen_symbols = actor.choose_symbols(summary)\n",
    "len(chosen_symbols)"
   ]
  },
  {
   "cell_type": "code",
   "execution_count": null,
   "metadata": {},
   "outputs": [],
   "source": [
    "chosen_symbols"
   ]
  },
  {
   "cell_type": "code",
   "execution_count": null,
   "metadata": {},
   "outputs": [],
   "source": [
    "chosen_actions = actor.update_trading_symbols(chosen_symbols)\n",
    "len(chosen_actions)"
   ]
  },
  {
   "cell_type": "code",
   "execution_count": null,
   "metadata": {},
   "outputs": [],
   "source": [
    "chosen_actions"
   ]
  },
  {
   "cell_type": "code",
   "execution_count": null,
   "metadata": {},
   "outputs": [],
   "source": [
    "chosen_actions = await actor.run()\n",
    "chosen_actions"
   ]
  },
  {
   "cell_type": "markdown",
   "metadata": {},
   "source": [
    "## Testing Random Stuff"
   ]
  },
  {
   "cell_type": "code",
   "execution_count": null,
   "metadata": {},
   "outputs": [],
   "source": []
  },
  {
   "cell_type": "markdown",
   "metadata": {},
   "source": [
    "### instruments info"
   ]
  },
  {
   "cell_type": "code",
   "execution_count": null,
   "metadata": {},
   "outputs": [],
   "source": [
    "import aiohttp\n",
    "\n",
    "base_url = \"https://api.bybit.com/v5/market\"\n",
    "category = \"linear\"\n",
    "\n",
    "async def get_all_symbols():\n",
    "    url = f\"{base_url}/instruments-info\"\n",
    "    params = {\"category\": category}\n",
    "    async with aiohttp.ClientSession() as session:\n",
    "        async with session.get(url, params=params) as response:\n",
    "            data = await response.json()\n",
    "            if data['retCode'] != 0:\n",
    "                print(f\"Error fetching instrument info: {data['retMsg']}\")\n",
    "                return []\n",
    "            return [\n",
    "                {\n",
    "                        'symbol': symbol['symbol'],\n",
    "                        # 'tickSize': float(symbol['priceFilter']['tickSize'])\n",
    "                        # 'all_data': symbol,\n",
    "                        'qtyStep': symbol['lotSizeFilter']['qtyStep'],\n",
    "                    }\n",
    "                    for symbol in data.get('result', {}).get('list', [])\n",
    "                    if symbol['quoteCoin'] == 'USDT'\n",
    "                ]\n",
    "\n",
    "symbols = await get_all_symbols()\n",
    "len(symbols)"
   ]
  },
  {
   "cell_type": "code",
   "execution_count": null,
   "metadata": {},
   "outputs": [],
   "source": [
    "symbols"
   ]
  },
  {
   "cell_type": "markdown",
   "metadata": {},
   "source": [
    "### load numpy klines"
   ]
  },
  {
   "cell_type": "code",
   "execution_count": null,
   "metadata": {},
   "outputs": [],
   "source": [
    "import os\n",
    "import numpy as np\n",
    "from datetime import datetime\n",
    "\n",
    "\n",
    "def load_klines_up_to_time(symbol, target_time, n, interval=\"1 day\"):\n",
    "    # Convert target_time to Unix timestamp if it's a string\n",
    "    if isinstance(target_time, str):\n",
    "        target_timestamp = int(datetime.strptime(target_time, \"%Y-%m-%d %H:%M:%S\").timestamp() * 1000)\n",
    "    else:\n",
    "        target_timestamp = target_time\n",
    "\n",
    "    # Construct file paths\n",
    "    data_dir = f\"../data/klines_processed/{interval}\"  # Adjust this path as needed\n",
    "    data_file = os.path.join(data_dir, f\"{symbol}USDT.npy\")\n",
    "    timestamps_file = os.path.join(data_dir, f\"{symbol}USDT_timestamps.npy\")\n",
    "    \n",
    "    # Load data and timestamps\n",
    "    data = np.load(data_file)\n",
    "    timestamps = np.load(timestamps_file)\n",
    "    \n",
    "    # Find the index of the closest timestamp <= target_timestamp\n",
    "    target_index = np.searchsorted(timestamps, target_timestamp, side='right') - 1\n",
    "    \n",
    "    # Calculate the start index\n",
    "    start_index = max(0, target_index - n + 1)\n",
    "    \n",
    "    # Return the last n klines up to the target timestamp\n",
    "    return data[start_index:target_index+1], timestamps[start_index:target_index+1]\n",
    "\n",
    "\n",
    "# Example usage\n",
    "symbol = \"BTC\"\n",
    "target_time_unix = 1692144000000  # August 16, 2023 00:00:00 UTC\n",
    "target_time_str = \"2024-08-15 23:00:00\"\n",
    "n = 5\n",
    "\n",
    "# Using Unix timestamp\n",
    "klines1, timestamps1 = load_klines_up_to_time(symbol, target_time_unix, n)\n",
    "\n",
    "# Using date-time string\n",
    "klines2, timestamps2 = load_klines_up_to_time(symbol, target_time_str, n)\n",
    "\n",
    "print(f\"Loaded {len(klines1)} klines for {symbol} using Unix timestamp\")\n",
    "print(f\"Loaded {len(klines2)} klines for {symbol} using date-time string\")\n",
    "print(\"\\nLast timestamp (Unix):\", timestamps1[-1])\n",
    "print(\"Last timestamp (String):\", timestamps2[-1])\n",
    "print(\"\\nLast kline data (Unix):\", klines1[-1])\n",
    "print(\"Last kline data (String):\", klines2[-1])"
   ]
  },
  {
   "cell_type": "code",
   "execution_count": null,
   "metadata": {},
   "outputs": [],
   "source": [
    "klines2"
   ]
  },
  {
   "cell_type": "code",
   "execution_count": null,
   "metadata": {},
   "outputs": [],
   "source": [
    "timestamps1"
   ]
  },
  {
   "cell_type": "markdown",
   "metadata": {},
   "source": [
    "### kline function"
   ]
  },
  {
   "cell_type": "code",
   "execution_count": null,
   "metadata": {},
   "outputs": [],
   "source": [
    "from data_handler import DataHandler\n",
    "handler = DataHandler()"
   ]
  },
  {
   "cell_type": "code",
   "execution_count": null,
   "metadata": {},
   "outputs": [],
   "source": [
    "symbol = \"BCHUSDT\"\n",
    "interval = \"1 day\"\n",
    "length = 3\n",
    "handler.fetch_kline_data(symbol, interval, length=length)"
   ]
  },
  {
   "cell_type": "code",
   "execution_count": null,
   "metadata": {},
   "outputs": [],
   "source": [
    "response = handler.session.get_kline(\n",
    "                    category=handler.category,\n",
    "                    symbol=\"BCHUSDT\",\n",
    "                    interval=handler.all_intervals[\"1 hour\"],\n",
    "                    start=1607904000000,\n",
    "                    end=None,\n",
    "                    limit=3\n",
    "                )\n",
    "len(response['result']['list'])"
   ]
  },
  {
   "cell_type": "code",
   "execution_count": null,
   "metadata": {},
   "outputs": [],
   "source": [
    "response"
   ]
  },
  {
   "cell_type": "markdown",
   "metadata": {},
   "source": [
    "### unix / datetime"
   ]
  },
  {
   "cell_type": "code",
   "execution_count": null,
   "metadata": {},
   "outputs": [],
   "source": [
    "from datetime import datetime, timezone\n",
    "\n",
    "def date_to_unix_time(date_str):\n",
    "    dt = datetime.strptime(date_str, '%Y-%m-%d %H:%M:%S')\n",
    "    dt = dt.replace(tzinfo=timezone.utc)\n",
    "    return int(dt.timestamp() * 1000)\n",
    "\n",
    "unix_time = 1725141600000\n",
    "date = datetime.fromtimestamp(unix_time / 1000, tz=timezone.utc).strftime('%Y-%m-%d %H:%M:%S')\n",
    "print(f\"{unix_time}  -->  {date}\")\n",
    "\n",
    "date_str = \"2023-04-01 00:00:00\"\n",
    "unix_time_back = date_to_unix_time(date_str)\n",
    "print(f\"{date_str}  -->  {unix_time_back}\")"
   ]
  },
  {
   "cell_type": "markdown",
   "metadata": {},
   "source": [
    "### ccxt"
   ]
  },
  {
   "cell_type": "code",
   "execution_count": null,
   "metadata": {},
   "outputs": [],
   "source": [
    "import configs_trader as configs\n",
    "\n",
    "import ccxt\n",
    "\n",
    "# Initialize the Bybit exchange\n",
    "exchange = ccxt.bybit({\n",
    "    'apiKey': 'configs.API_KEY',\n",
    "    'secret': 'configs.API_SECRET',\n",
    "    'enableRateLimit': True,\n",
    "    'options': {\n",
    "        'defaultType': 'linear',\n",
    "        'adjustForTimeDifference': True,\n",
    "        'timeDifference': 2000\n",
    "    }\n",
    "})"
   ]
  },
  {
   "cell_type": "code",
   "execution_count": null,
   "metadata": {},
   "outputs": [],
   "source": [
    "markets = exchange.load_markets()"
   ]
  },
  {
   "cell_type": "code",
   "execution_count": null,
   "metadata": {},
   "outputs": [],
   "source": [
    "# Fetch markets\n",
    "markets = exchange.fetchMarkets()\n",
    "len(markets)"
   ]
  },
  {
   "cell_type": "code",
   "execution_count": null,
   "metadata": {},
   "outputs": [],
   "source": [
    "markets[2]"
   ]
  },
  {
   "cell_type": "code",
   "execution_count": null,
   "metadata": {},
   "outputs": [],
   "source": [
    "# Fetch markets\n",
    "markets = exchange.load_markets()\n",
    "\n",
    "# Get ticker for a specific symbol\n",
    "symbol = 'BTC/USDT'\n",
    "ticker = exchange.fetch_ticker(symbol)\n",
    "\n",
    "print(f\"Current price of {symbol}: {ticker['last']}\")\n",
    "\n",
    "# Fetch account balance\n",
    "balance = exchange.fetch_balance()\n",
    "print(f\"USDT Balance: {balance['USDT']['free']}\")\n",
    "\n",
    "# Place a market order (be cautious with real accounts)\n",
    "# order = exchange.create_market_buy_order(symbol, 0.001)  # Buy 0.001 BTC\n",
    "# print(order)"
   ]
  }
 ],
 "metadata": {
  "kernelspec": {
   "display_name": "S5",
   "language": "python",
   "name": "python3"
  },
  "language_info": {
   "codemirror_mode": {
    "name": "ipython",
    "version": 3
   },
   "file_extension": ".py",
   "mimetype": "text/x-python",
   "name": "python",
   "nbconvert_exporter": "python",
   "pygments_lexer": "ipython3",
   "version": "3.11.8"
  }
 },
 "nbformat": 4,
 "nbformat_minor": 2
}
