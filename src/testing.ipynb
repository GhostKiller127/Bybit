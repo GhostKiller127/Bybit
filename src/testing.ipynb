{
 "cells": [
  {
   "cell_type": "markdown",
   "metadata": {},
   "source": [
    "## Downloader"
   ]
  },
  {
   "cell_type": "markdown",
   "metadata": {},
   "source": [
    "### usdt symbols"
   ]
  },
  {
   "cell_type": "code",
   "execution_count": 9,
   "metadata": {},
   "outputs": [],
   "source": [
    "import nest_asyncio\n",
    "nest_asyncio.apply()"
   ]
  },
  {
   "cell_type": "code",
   "execution_count": 10,
   "metadata": {},
   "outputs": [],
   "source": [
    "from downloader import Downloader\n",
    "downloader = Downloader()"
   ]
  },
  {
   "cell_type": "code",
   "execution_count": 13,
   "metadata": {},
   "outputs": [
    {
     "name": "stdout",
     "output_type": "stream",
     "text": [
      "Saved trading_symbols_2024-09-15_by_launch.csv\n",
      "Saved trading_symbols_2024-09-15_by_size.csv\n"
     ]
    }
   ],
   "source": [
    "await downloader.download_trading_symbols()"
   ]
  },
  {
   "cell_type": "code",
   "execution_count": null,
   "metadata": {},
   "outputs": [],
   "source": [
    "import yaml\n",
    "with open('configs.yaml', 'r') as file:\n",
    "    configs = yaml.safe_load(file)\n",
    "    \n",
    "last_launch_time = configs['last_launch_time']\n",
    "exclude_symbols = configs['exclude_symbols']\n",
    "symbols = downloader.load_trading_symbols(last_launch_time, exclude_symbols)\n",
    "print(len(symbols))\n",
    "symbols"
   ]
  },
  {
   "cell_type": "markdown",
   "metadata": {},
   "source": [
    "### fetch recent klines"
   ]
  },
  {
   "cell_type": "code",
   "execution_count": null,
   "metadata": {},
   "outputs": [],
   "source": [
    "from downloader import Downloader\n",
    "downloader = Downloader()"
   ]
  },
  {
   "cell_type": "code",
   "execution_count": null,
   "metadata": {},
   "outputs": [
    {
     "name": "stdout",
     "output_type": "stream",
     "text": [
      "232\n"
     ]
    }
   ],
   "source": [
    "symbols = downloader.load_usdt_symbols()['Symbol'].tolist()\n",
    "print(len(symbols))\n",
    "# symbols = [\"BTCUSDT\", \"ETHUSDT\", \"XRPUSDT\", \"ADAUSDT\", \"DOGEUSDT\"]\n",
    "intervals = ['1 month', '1 week', '1 day', '6 hours', '1 hour']"
   ]
  },
  {
   "cell_type": "code",
   "execution_count": null,
   "metadata": {},
   "outputs": [
    {
     "name": "stderr",
     "output_type": "stream",
     "text": [
      "Fetching recent klines:   0%|          | 0/1160 [00:00<?, ?it/s]"
     ]
    },
    {
     "name": "stderr",
     "output_type": "stream",
     "text": [
      "Fetching recent klines: 100%|██████████| 1160/1160 [00:12<00:00, 93.56it/s]\n"
     ]
    },
    {
     "name": "stdout",
     "output_type": "stream",
     "text": [
      "1160 True 0\n"
     ]
    }
   ],
   "source": [
    "processed_results, klines_complete, incomplete_klines = await downloader.fetch_recent_klines(symbols, intervals)\n",
    "print(len(processed_results), klines_complete, len(incomplete_klines))"
   ]
  },
  {
   "cell_type": "code",
   "execution_count": null,
   "metadata": {},
   "outputs": [],
   "source": [
    "# processed_results[('BTCUSDT', '1 hour')]"
   ]
  },
  {
   "cell_type": "markdown",
   "metadata": {},
   "source": [
    "## Processor"
   ]
  },
  {
   "cell_type": "markdown",
   "metadata": {},
   "source": [
    "### processing klines"
   ]
  },
  {
   "cell_type": "code",
   "execution_count": 1,
   "metadata": {},
   "outputs": [],
   "source": [
    "from processor import Processor\n",
    "processor = Processor()"
   ]
  },
  {
   "cell_type": "code",
   "execution_count": 2,
   "metadata": {},
   "outputs": [
    {
     "name": "stdout",
     "output_type": "stream",
     "text": [
      "Processing interval: 1 month\n"
     ]
    },
    {
     "name": "stderr",
     "output_type": "stream",
     "text": [
      "Loading data: 100%|██████████| 231/231 [00:02<00:00, 86.47it/s]\n"
     ]
    },
    {
     "name": "stdout",
     "output_type": "stream",
     "text": [
      "Processing summary: Full: 231, New data: 0, Up-to-date: 0\n"
     ]
    },
    {
     "name": "stderr",
     "output_type": "stream",
     "text": [
      "Processing: 100%|██████████| 231/231 [00:01<00:00, 228.61it/s]\n",
      "Saving: 100%|██████████| 231/231 [00:03<00:00, 72.26it/s]\n"
     ]
    },
    {
     "name": "stdout",
     "output_type": "stream",
     "text": [
      "Processing interval: 1 week\n"
     ]
    },
    {
     "name": "stderr",
     "output_type": "stream",
     "text": [
      "Loading data: 100%|██████████| 231/231 [00:03<00:00, 75.71it/s]\n"
     ]
    },
    {
     "name": "stdout",
     "output_type": "stream",
     "text": [
      "Processing summary: Full: 231, New data: 0, Up-to-date: 0\n"
     ]
    },
    {
     "name": "stderr",
     "output_type": "stream",
     "text": [
      "Processing: 100%|██████████| 231/231 [00:00<00:00, 273.89it/s]\n",
      "Saving: 100%|██████████| 231/231 [00:02<00:00, 104.83it/s]\n"
     ]
    },
    {
     "name": "stdout",
     "output_type": "stream",
     "text": [
      "Processing interval: 1 day\n"
     ]
    },
    {
     "name": "stderr",
     "output_type": "stream",
     "text": [
      "Loading data: 100%|██████████| 231/231 [00:03<00:00, 74.57it/s]\n"
     ]
    },
    {
     "name": "stdout",
     "output_type": "stream",
     "text": [
      "Processing summary: Full: 231, New data: 0, Up-to-date: 0\n"
     ]
    },
    {
     "name": "stderr",
     "output_type": "stream",
     "text": [
      "Processing: 100%|██████████| 231/231 [00:00<00:00, 244.12it/s]\n",
      "Saving: 100%|██████████| 231/231 [00:04<00:00, 51.77it/s]\n"
     ]
    },
    {
     "name": "stdout",
     "output_type": "stream",
     "text": [
      "Processing interval: 6 hours\n"
     ]
    },
    {
     "name": "stderr",
     "output_type": "stream",
     "text": [
      "Loading data: 100%|██████████| 231/231 [00:04<00:00, 52.34it/s]\n"
     ]
    },
    {
     "name": "stdout",
     "output_type": "stream",
     "text": [
      "Processing summary: Full: 231, New data: 0, Up-to-date: 0\n"
     ]
    },
    {
     "name": "stderr",
     "output_type": "stream",
     "text": [
      "Processing: 100%|██████████| 231/231 [00:00<00:00, 250.73it/s]\n",
      "Saving: 100%|██████████| 231/231 [00:06<00:00, 35.13it/s]\n"
     ]
    },
    {
     "name": "stdout",
     "output_type": "stream",
     "text": [
      "Processing interval: 1 hour\n"
     ]
    },
    {
     "name": "stderr",
     "output_type": "stream",
     "text": [
      "Loading data: 100%|██████████| 231/231 [00:12<00:00, 18.55it/s]\n"
     ]
    },
    {
     "name": "stdout",
     "output_type": "stream",
     "text": [
      "Processing summary: Full: 231, New data: 0, Up-to-date: 0\n"
     ]
    },
    {
     "name": "stderr",
     "output_type": "stream",
     "text": [
      "Processing: 100%|██████████| 231/231 [00:01<00:00, 151.02it/s]\n",
      "Saving: 100%|██████████| 231/231 [00:16<00:00, 13.60it/s]\n"
     ]
    }
   ],
   "source": [
    "import yaml\n",
    "with open('configs.yaml', 'r') as file:\n",
    "    configs = yaml.safe_load(file)\n",
    "    \n",
    "intervals = configs['intervals']\n",
    "# intervals = [\"15 minutes\"]\n",
    "processor.create_env_data(intervals=intervals, reprocess=True, recalculate_constants=False, batch_size=None)"
   ]
  },
  {
   "cell_type": "code",
   "execution_count": null,
   "metadata": {},
   "outputs": [],
   "source": [
    "processed_klines, processing_issues = processor.process_recent_klines(processed_results)"
   ]
  },
  {
   "cell_type": "code",
   "execution_count": null,
   "metadata": {},
   "outputs": [],
   "source": [
    "processed_klines.keys()"
   ]
  },
  {
   "cell_type": "markdown",
   "metadata": {},
   "source": [
    "## Plotter"
   ]
  },
  {
   "cell_type": "markdown",
   "metadata": {},
   "source": [
    "### plotting raw klines"
   ]
  },
  {
   "cell_type": "code",
   "execution_count": null,
   "metadata": {},
   "outputs": [
    {
     "name": "stdout",
     "output_type": "stream",
     "text": [
      "Main klines data folder created: ../data/klines\n",
      "Interval folders created successfully.\n"
     ]
    }
   ],
   "source": [
    "from plotter import Plotter\n",
    "plotter = Plotter()"
   ]
  },
  {
   "cell_type": "code",
   "execution_count": null,
   "metadata": {},
   "outputs": [],
   "source": [
    "symbol = \"SHIB1000USDT\"\n",
    "interval = \"1 day\"\n",
    "df = plotter.load_data(symbol, interval)"
   ]
  },
  {
   "cell_type": "code",
   "execution_count": null,
   "metadata": {},
   "outputs": [],
   "source": [
    "plotter.plot_price_history_and_stats(df, symbol)"
   ]
  },
  {
   "cell_type": "markdown",
   "metadata": {},
   "source": [
    "### plotting processed klines"
   ]
  },
  {
   "cell_type": "code",
   "execution_count": 2,
   "metadata": {},
   "outputs": [],
   "source": [
    "from plotter import Plotter\n",
    "plotter = Plotter()"
   ]
  },
  {
   "cell_type": "code",
   "execution_count": null,
   "metadata": {},
   "outputs": [],
   "source": [
    "potential_stablecoins = plotter.identify_potential_stablecoins(threshold=0.05, interval=\"1 day\")"
   ]
  },
  {
   "cell_type": "code",
   "execution_count": 3,
   "metadata": {},
   "outputs": [
    {
     "name": "stderr",
     "output_type": "stream",
     "text": [
      "Loading data: 100%|██████████| 231/231 [00:12<00:00, 17.87it/s]\n",
      "Plotting data: 100%|██████████| 231/231 [01:00<00:00,  3.81it/s]\n"
     ]
    },
    {
     "name": "stdout",
     "output_type": "stream",
     "text": [
      "Symbols comparison plot saved as '../data/plots/all_symbols_processed_15_minutes.png'\n"
     ]
    }
   ],
   "source": [
    "# intervals = [\"1 month\", \"1 week\", \"1 day\", \"6 hours\", \"1 hour\", \"15 minutes\"]\n",
    "intervals = [\"15 minutes\"]\n",
    "\n",
    "for interval in intervals:\n",
    "    plotter.plot_efficient_symbol_comparison(\n",
    "        interval=interval,\n",
    "        num_symbols=None,\n",
    "        use_processed=True,\n",
    "        use_all_symbols=True,\n",
    "        exclude_symbols=['USDCUSDT'],\n",
    "        show_all_plots=True,\n",
    "    )"
   ]
  },
  {
   "cell_type": "code",
   "execution_count": null,
   "metadata": {},
   "outputs": [
    {
     "name": "stdout",
     "output_type": "stream",
     "text": [
      "Recent data comparison plot for 1 week saved as '../data/plots/recent/recent_data_comparison_1_week.png'\n",
      "Recent data comparison plot for 6 hours saved as '../data/plots/recent/recent_data_comparison_6_hours.png'\n",
      "Recent data comparison plot for 1 month saved as '../data/plots/recent/recent_data_comparison_1_month.png'\n",
      "Recent data comparison plot for 1 day saved as '../data/plots/recent/recent_data_comparison_1_day.png'\n",
      "Recent data comparison plot for 1 hour saved as '../data/plots/recent/recent_data_comparison_1_hour.png'\n"
     ]
    }
   ],
   "source": [
    "plotter.plot_recent_data(processed_klines)"
   ]
  },
  {
   "cell_type": "markdown",
   "metadata": {},
   "source": [
    "## Actor"
   ]
  },
  {
   "cell_type": "code",
   "execution_count": 2,
   "metadata": {},
   "outputs": [],
   "source": [
    "import nest_asyncio\n",
    "nest_asyncio.apply()"
   ]
  },
  {
   "cell_type": "code",
   "execution_count": 2,
   "metadata": {},
   "outputs": [],
   "source": [
    "from actor import Actor\n",
    "actor = await Actor().initialize()"
   ]
  },
  {
   "cell_type": "code",
   "execution_count": 202,
   "metadata": {},
   "outputs": [
    {
     "name": "stderr",
     "output_type": "stream",
     "text": [
      "Fetching recent klines: 100%|██████████| 5/5 [00:00<00:00, 15.07it/s]\n"
     ]
    }
   ],
   "source": [
    "processed_klines, klines_complete, incomplete_klines, processing_issues, last_klines = await actor.fetch_and_process_klines(intervals_back=24*30 + 10)\n",
    "combined_klines = actor.combine_recent_klines(processed_klines)\n",
    "observations = actor.create_observation(combined_klines)"
   ]
  },
  {
   "cell_type": "code",
   "execution_count": 203,
   "metadata": {},
   "outputs": [
    {
     "data": {
      "text/plain": [
       "{('BTCUSDT',\n",
       "  '1 month'): {'data': array([[1.1493431 , 1.1767172 , 0.99785787, 1.07619   , 1.6624483 ],\n",
       "         [1.07619   , 1.0789348 , 0.8195351 , 0.8734317 , 1.6804976 ],\n",
       "         [0.8734317 , 0.9666315 , 0.8476486 , 0.94120127, 1.6575767 ],\n",
       "         [0.94120127, 0.97540575, 0.864302  , 0.8761476 , 1.6177814 ],\n",
       "         [0.8761476 , 0.931843  , 0.83170104, 0.86203676, 1.6389761 ],\n",
       "         [0.86203676, 0.8983049 , 0.8310046 , 0.8853524 , 1.5869495 ],\n",
       "         [0.8853524 , 0.90585446, 0.76266974, 0.8081979 , 1.586553  ],\n",
       "         [0.8081979 , 0.83834434, 0.78361785, 0.79280734, 1.4707441 ],\n",
       "         [0.79280734, 0.953618  , 0.7917958 , 0.9381981 , 1.5851257 ],\n",
       "         [0.9381981 , 0.977076  , 0.9029624 , 0.9381962 , 1.5989679 ],\n",
       "         [0.9381962 , 1.0393636 , 0.86483586, 1.0281367 , 1.6885499 ],\n",
       "         [1.0281367 , 1.0662477 , 1.0043072 , 1.0396581 , 1.6417238 ],\n",
       "         [1.0396581 , 1.0487194 , 0.9850357 , 1.0085753 , 1.608207  ],\n",
       "         [1.0085753 , 1.0715603 , 0.968115  , 1.0578307 , 1.6261806 ],\n",
       "         [1.0578307 , 1.0770487 , 1.0341833 , 1.0397681 , 1.5610327 ],\n",
       "         [1.0397681 , 1.0549746 , 0.957854  , 0.98772615, 1.5851232 ],\n",
       "         [0.98772615, 1.0131166 , 0.9694083 , 1.0046376 , 1.5505326 ],\n",
       "         [1.0046376 , 1.139203  , 0.9976451 , 1.11394   , 1.6376779 ],\n",
       "         [1.11394   , 1.1606109 , 1.1062416 , 1.1506793 , 1.663404  ],\n",
       "         [1.1506793 , 1.2250774 , 1.1493582 , 1.2006173 , 1.6874998 ],\n",
       "         [1.2006173 , 1.2647004 , 1.1598383 , 1.2029495 , 1.7196178 ],\n",
       "         [1.2029495 , 1.38356   , 1.1956505 , 1.360661  , 1.72042   ],\n",
       "         [1.360661  , 1.4429548 , 1.3456907 , 1.4275868 , 1.8057895 ],\n",
       "         [1.4275868 , 1.4364789 , 1.345845  , 1.3568954 , 1.7693807 ],\n",
       "         [1.3568954 , 1.4317269 , 1.3261093 , 1.4036851 , 1.7187619 ],\n",
       "         [1.4036851 , 1.4323732 , 1.3398399 , 1.3716327 , 1.6818092 ],\n",
       "         [1.3716327 , 1.419969  , 1.3008661 , 1.3843619 , 1.7498773 ]],\n",
       "        dtype=float32), 'timestamps': array([1651363200000, 1654041600000, 1656633600000, 1659312000000,\n",
       "         1661990400000, 1664582400000, 1667260800000, 1669852800000,\n",
       "         1672531200000, 1675209600000, 1677628800000, 1680307200000,\n",
       "         1682899200000, 1685577600000, 1688169600000, 1690848000000,\n",
       "         1693526400000, 1696118400000, 1698796800000, 1701388800000,\n",
       "         1704067200000, 1706745600000, 1709251200000, 1711929600000,\n",
       "         1714521600000, 1717200000000, 1719792000000])},\n",
       " ('BTCUSDT',\n",
       "  '1 week'): {'data': array([[1.20302  , 1.26069  , 1.1996394, 1.2582258, 1.4233297],\n",
       "         [1.2582258, 1.2973098, 1.2526573, 1.2914841, 1.4802308],\n",
       "         [1.2914841, 1.2992805, 1.2767115, 1.2879118, 1.4248915],\n",
       "         [1.2879118, 1.38356  , 1.2809279, 1.3745959, 1.563503 ],\n",
       "         [1.3745959, 1.4211013, 1.3456907, 1.412869 , 1.583125 ],\n",
       "         [1.412869 , 1.4429548, 1.3838501, 1.4092829, 1.581592 ],\n",
       "         [1.4092829, 1.4131233, 1.3576487, 1.4017024, 1.5546037],\n",
       "         [1.4017024, 1.4307393, 1.3960238, 1.4275868, 1.488469 ],\n",
       "         [1.4275868, 1.4276878, 1.3829488, 1.4151002, 1.503954 ],\n",
       "         [1.4151002, 1.4364789, 1.3504759, 1.3910514, 1.5547876],\n",
       "         [1.3910514, 1.3990258, 1.3486978, 1.38634  , 1.5353512],\n",
       "         [1.38634  , 1.4013846, 1.3689982, 1.3740022, 1.4499003],\n",
       "         [1.3740022, 1.3849623, 1.3261093, 1.3801875, 1.5138301],\n",
       "         [1.3801875, 1.3905289, 1.3529764, 1.3625422, 1.4491758],\n",
       "         [1.3625422, 1.4048529, 1.3572669, 1.395114 , 1.4474453],\n",
       "         [1.395114 , 1.4317269, 1.39379  , 1.4098943, 1.4584253],\n",
       "         [1.4098943, 1.4236746, 1.3978877, 1.4051003, 1.4062217],\n",
       "         [1.4051003, 1.4323732, 1.4041072, 1.4168955, 1.4181408],\n",
       "         [1.4168955, 1.4202396, 1.3871362, 1.3977457, 1.443056 ],\n",
       "         [1.3977457, 1.4019723, 1.3742107, 1.3746014, 1.4295514],\n",
       "         [1.3746014, 1.3756312, 1.3398399, 1.3716327, 1.4539205],\n",
       "         [1.3716327, 1.3791493, 1.3008661, 1.3209678, 1.4887022],\n",
       "         [1.3209678, 1.3621053, 1.3082484, 1.3576102, 1.4743536],\n",
       "         [1.3576102, 1.4088988, 1.3565087, 1.4074883, 1.4965318],\n",
       "         [1.4074883, 1.4153819, 1.3759644, 1.4080672, 1.492075 ],\n",
       "         [1.4080672, 1.419969 , 1.3310387, 1.3384347, 1.5332782],\n",
       "         [1.3384347, 1.3715885, 1.2634565, 1.3426857, 1.565251 ]],\n",
       "        dtype=float32), 'timestamps': array([1707091200000, 1707696000000, 1708300800000, 1708905600000,\n",
       "         1709510400000, 1710115200000, 1710720000000, 1711324800000,\n",
       "         1711929600000, 1712534400000, 1713139200000, 1713744000000,\n",
       "         1714348800000, 1714953600000, 1715558400000, 1716163200000,\n",
       "         1716768000000, 1717372800000, 1717977600000, 1718582400000,\n",
       "         1719187200000, 1719792000000, 1720396800000, 1721001600000,\n",
       "         1721606400000, 1722211200000, 1722816000000])},\n",
       " ('BTCUSDT',\n",
       "  '1 day'): {'data': array([[1.3977046, 1.4039685, 1.3948935, 1.4007657, 1.0331112],\n",
       "         [1.4007657, 1.4088988, 1.3918389, 1.4074883, 1.1346107],\n",
       "         [1.4074883, 1.4095094, 1.3971248, 1.403285 , 1.1210135],\n",
       "         [1.403285 , 1.4047381, 1.3894116, 1.3930534, 1.1747924],\n",
       "         [1.3930534, 1.4007787, 1.3862872, 1.3893651, 1.1268258],\n",
       "         [1.3893651, 1.3949184, 1.3759644, 1.3920344, 1.1926876],\n",
       "         [1.3920344, 1.4078871, 1.3915547, 1.405772 , 1.1490853],\n",
       "         [1.405772 , 1.4153819, 1.3975508, 1.405905 , 1.2203708],\n",
       "         [1.405905 , 1.408684 , 1.4002715, 1.4080672, 1.0353808],\n",
       "         [1.4080672, 1.419969 , 1.3959347, 1.3985238, 1.2268225],\n",
       "         [1.3985238, 1.3998307, 1.3887028, 1.3946836, 1.1552111],\n",
       "         [1.3946836, 1.3990068, 1.3835983, 1.3843619, 1.1503711],\n",
       "         [1.3843619, 1.3911533, 1.3679364, 1.3892089, 1.2206708],\n",
       "         [1.3892089, 1.39077  , 1.3605716, 1.362608 , 1.2381229],\n",
       "         [1.362608 , 1.3674915, 1.3508834, 1.3570824, 1.161461 ],\n",
       "         [1.3570824, 1.3599783, 1.3310387, 1.3384347, 1.1904999],\n",
       "         [1.3384347, 1.3395293, 1.2634565, 1.3063213, 1.3900342],\n",
       "         [1.3063213, 1.3303245, 1.3057506, 1.3221314, 1.2262602],\n",
       "         [1.3221314, 1.3356684, 1.31056  , 1.315249 , 1.1964972],\n",
       "         [1.315249 , 1.3715885, 1.3120495, 1.3640978, 1.2465614],\n",
       "         [1.3640978, 1.3645399, 1.3484519, 1.3580325, 1.1703876],\n",
       "         [1.3580325, 1.3626143, 1.3537848, 1.3585948, 0.9951127],\n",
       "         [1.3585948, 1.3655727, 1.3394227, 1.3426857, 1.1111844],\n",
       "         [1.3426857, 1.3571503, 1.3341055, 1.347195 , 1.2268835],\n",
       "         [1.347195 , 1.3634388, 1.3402865, 1.3561997, 1.1652855],\n",
       "         [1.3561997, 1.3660659, 1.3404286, 1.3422735, 1.1779753],\n",
       "         [1.3422735, 1.3509682, 1.3226143, 1.3338103, 1.2128514]],\n",
       "        dtype=float32), 'timestamps': array([1721433600000, 1721520000000, 1721606400000, 1721692800000,\n",
       "         1721779200000, 1721865600000, 1721952000000, 1722038400000,\n",
       "         1722124800000, 1722211200000, 1722297600000, 1722384000000,\n",
       "         1722470400000, 1722556800000, 1722643200000, 1722729600000,\n",
       "         1722816000000, 1722902400000, 1722988800000, 1723075200000,\n",
       "         1723161600000, 1723248000000, 1723334400000, 1723420800000,\n",
       "         1723507200000, 1723593600000, 1723680000000])},\n",
       " ('BTCUSDT',\n",
       "  '6 hours'): {'data': array([[1.3534082 , 1.3591678 , 1.3508056 , 1.3580325 , 0.9036114 ],\n",
       "         [1.3580325 , 1.3626143 , 1.3537848 , 1.3546371 , 0.8111909 ],\n",
       "         [1.3546371 , 1.359989  , 1.3544283 , 1.3586268 , 0.74426776],\n",
       "         [1.3586268 , 1.3587937 , 1.3548076 , 1.3575401 , 0.7256852 ],\n",
       "         [1.3575401 , 1.361037  , 1.357234  , 1.3585948 , 0.71987695],\n",
       "         [1.3585948 , 1.3619814 , 1.3582395 , 1.359979  , 0.7054025 ],\n",
       "         [1.359979  , 1.3655727 , 1.3549731 , 1.3567609 , 0.8673086 ],\n",
       "         [1.3567609 , 1.3575287 , 1.3515095 , 1.353911  , 0.84492934],\n",
       "         [1.353911  , 1.3544903 , 1.3394227 , 1.3426857 , 0.96922445],\n",
       "         [1.3426857 , 1.3454158 , 1.3376309 , 1.3415501 , 0.8536512 ],\n",
       "         [1.3415501 , 1.3517247 , 1.3341055 , 1.3508136 , 0.9951421 ],\n",
       "         [1.3508136 , 1.3571503 , 1.3354691 , 1.34685   , 1.0892028 ],\n",
       "         [1.34685   , 1.3503553 , 1.340407  , 1.347195  , 0.9162145 ],\n",
       "         [1.347195  , 1.351466  , 1.3435149 , 1.346309  , 0.8400107 ],\n",
       "         [1.346309  , 1.3482875 , 1.3402865 , 1.3433806 , 0.8435068 ],\n",
       "         [1.3433806 , 1.3634388 , 1.3423927 , 1.3602946 , 1.0434974 ],\n",
       "         [1.3602946 , 1.360632  , 1.3536781 , 1.3561997 , 0.8797968 ],\n",
       "         [1.3561997 , 1.3613554 , 1.3550594 , 1.3579067 , 0.7660559 ],\n",
       "         [1.3579067 , 1.3625783 , 1.3564034 , 1.3611683 , 0.813377  ],\n",
       "         [1.3611683 , 1.3660659 , 1.341326  , 1.3458391 , 1.1035961 ],\n",
       "         [1.3458391 , 1.3481451 , 1.3404286 , 1.3422735 , 0.8266266 ],\n",
       "         [1.3422735 , 1.345296  , 1.3367407 , 1.3396612 , 0.84892845],\n",
       "         [1.3396612 , 1.344002  , 1.335123  , 1.3428565 , 0.8752663 ],\n",
       "         [1.3428565 , 1.3509682 , 1.340781  , 1.3437253 , 1.0110123 ],\n",
       "         [1.3437253 , 1.3437482 , 1.3226143 , 1.3338103 , 1.0624775 ],\n",
       "         [1.3338103 , 1.3415092 , 1.3304433 , 1.3386737 , 0.8657324 ],\n",
       "         [1.3386737 , 1.3424349 , 1.337645  , 1.3402508 , 0.8348564 ]],\n",
       "        dtype=float32), 'timestamps': array([1723226400000, 1723248000000, 1723269600000, 1723291200000,\n",
       "         1723312800000, 1723334400000, 1723356000000, 1723377600000,\n",
       "         1723399200000, 1723420800000, 1723442400000, 1723464000000,\n",
       "         1723485600000, 1723507200000, 1723528800000, 1723550400000,\n",
       "         1723572000000, 1723593600000, 1723615200000, 1723636800000,\n",
       "         1723658400000, 1723680000000, 1723701600000, 1723723200000,\n",
       "         1723744800000, 1723766400000, 1723788000000])},\n",
       " ('BTCUSDT',\n",
       "  '1 hour'): {'data': array([[1.3428565 , 1.3478366 , 1.3417689 , 1.34317   , 0.7808849 ],\n",
       "         [1.34317   , 1.3482255 , 1.340781  , 1.3480625 , 0.7380913 ],\n",
       "         [1.3480625 , 1.3503379 , 1.3461093 , 1.3478491 , 0.71935844],\n",
       "         [1.3478491 , 1.3503597 , 1.3467518 , 1.349675  , 0.6200403 ],\n",
       "         [1.349675  , 1.3509682 , 1.3478462 , 1.3486263 , 0.6130094 ],\n",
       "         [1.3486263 , 1.3487204 , 1.3428159 , 1.3437253 , 0.6608496 ],\n",
       "         [1.3437253 , 1.3437482 , 1.3336903 , 1.3362094 , 0.8487328 ],\n",
       "         [1.3362094 , 1.3369305 , 1.3269324 , 1.3300953 , 0.8491923 ],\n",
       "         [1.3300953 , 1.3307711 , 1.3226143 , 1.327112  , 0.75500154],\n",
       "         [1.327112  , 1.3345957 , 1.3266071 , 1.3345038 , 0.70634204],\n",
       "         [1.3345038 , 1.3363972 , 1.3325952 , 1.3344088 , 0.61975217],\n",
       "         [1.3344088 , 1.335936  , 1.333354  , 1.3338103 , 0.4926643 ],\n",
       "         [1.3338103 , 1.3348217 , 1.3324044 , 1.3333344 , 0.5082168 ],\n",
       "         [1.3333344 , 1.3345346 , 1.3304433 , 1.3338572 , 0.55569   ],\n",
       "         [1.3338572 , 1.3415092 , 1.3322529 , 1.3387961 , 0.67819107],\n",
       "         [1.3387961 , 1.3389208 , 1.3353728 , 1.3364842 , 0.53955966],\n",
       "         [1.3364842 , 1.3397149 , 1.3355579 , 1.339574  , 0.5085754 ],\n",
       "         [1.339574  , 1.3398168 , 1.3380027 , 1.3386737 , 0.43500587],\n",
       "         [1.3386737 , 1.3420682 , 1.337645  , 1.3411813 , 0.57276106],\n",
       "         [1.3411813 , 1.3414336 , 1.3397037 , 1.3406792 , 0.46337065],\n",
       "         [1.3406792 , 1.3417866 , 1.3396932 , 1.3399934 , 0.46350178],\n",
       "         [1.3399934 , 1.3424349 , 1.3391393 , 1.3422934 , 0.5417108 ],\n",
       "         [1.3422934 , 1.3422934 , 1.3393989 , 1.3404866 , 0.49940675],\n",
       "         [1.3404866 , 1.3418859 , 1.33823   , 1.3402508 , 0.5662567 ],\n",
       "         [1.3402508 , 1.3410736 , 1.333484  , 1.3362627 , 0.740635  ],\n",
       "         [1.3362627 , 1.3440934 , 1.3353277 , 1.3398466 , 0.81017846],\n",
       "         [1.3398466 , 1.3410298 , 1.3360877 , 1.3373711 , 0.65292794]],\n",
       "        dtype=float32), 'timestamps': array([1723723200000, 1723726800000, 1723730400000, 1723734000000,\n",
       "         1723737600000, 1723741200000, 1723744800000, 1723748400000,\n",
       "         1723752000000, 1723755600000, 1723759200000, 1723762800000,\n",
       "         1723766400000, 1723770000000, 1723773600000, 1723777200000,\n",
       "         1723780800000, 1723784400000, 1723788000000, 1723791600000,\n",
       "         1723795200000, 1723798800000, 1723802400000, 1723806000000,\n",
       "         1723809600000, 1723813200000, 1723816800000])}}"
      ]
     },
     "execution_count": 203,
     "metadata": {},
     "output_type": "execute_result"
    }
   ],
   "source": [
    "processed_klines  # 1726437600000"
   ]
  },
  {
   "cell_type": "code",
   "execution_count": 204,
   "metadata": {},
   "outputs": [],
   "source": [
    "actions, action_probs, q_action, v = actor.get_action_values(observations)"
   ]
  },
  {
   "cell_type": "code",
   "execution_count": 205,
   "metadata": {},
   "outputs": [],
   "source": [
    "df = actor.create_action_summary(actions, action_probs, q_action, v, last_klines, create_df=True)"
   ]
  },
  {
   "cell_type": "code",
   "execution_count": 206,
   "metadata": {},
   "outputs": [
    {
     "data": {
      "text/plain": [
       "1"
      ]
     },
     "execution_count": 206,
     "metadata": {},
     "output_type": "execute_result"
    }
   ],
   "source": [
    "len(df)"
   ]
  },
  {
   "cell_type": "code",
   "execution_count": 207,
   "metadata": {},
   "outputs": [
    {
     "data": {
      "text/html": [
       "<div>\n",
       "<style scoped>\n",
       "    .dataframe tbody tr th:only-of-type {\n",
       "        vertical-align: middle;\n",
       "    }\n",
       "\n",
       "    .dataframe tbody tr th {\n",
       "        vertical-align: top;\n",
       "    }\n",
       "\n",
       "    .dataframe thead th {\n",
       "        text-align: right;\n",
       "    }\n",
       "</style>\n",
       "<table border=\"1\" class=\"dataframe\">\n",
       "  <thead>\n",
       "    <tr style=\"text-align: right;\">\n",
       "      <th></th>\n",
       "      <th>Symbol</th>\n",
       "      <th>action</th>\n",
       "      <th>action_prob</th>\n",
       "      <th>q_action</th>\n",
       "      <th>v</th>\n",
       "      <th>close</th>\n",
       "      <th>turnover</th>\n",
       "      <th>timestamp</th>\n",
       "    </tr>\n",
       "  </thead>\n",
       "  <tbody>\n",
       "    <tr>\n",
       "      <th>0</th>\n",
       "      <td>BTCUSDT</td>\n",
       "      <td>0.0</td>\n",
       "      <td>0.346478</td>\n",
       "      <td>0.524043</td>\n",
       "      <td>0.15977</td>\n",
       "      <td>57989.4</td>\n",
       "      <td>4.288642e+08</td>\n",
       "      <td>1723816800000</td>\n",
       "    </tr>\n",
       "  </tbody>\n",
       "</table>\n",
       "</div>"
      ],
      "text/plain": [
       "    Symbol  action  action_prob  q_action        v    close      turnover  \\\n",
       "0  BTCUSDT     0.0     0.346478  0.524043  0.15977  57989.4  4.288642e+08   \n",
       "\n",
       "       timestamp  \n",
       "0  1723816800000  "
      ]
     },
     "execution_count": 207,
     "metadata": {},
     "output_type": "execute_result"
    }
   ],
   "source": [
    "df.head(10)"
   ]
  },
  {
   "cell_type": "code",
   "execution_count": 8,
   "metadata": {},
   "outputs": [],
   "source": [
    "from crypto_env import CryptoEnv\n",
    "\n",
    "train_parameters = {\n",
    "    \"load_run\": None,\n",
    "    \"train_frames\": 0}\n",
    "\n",
    "env = CryptoEnv(train_configs=train_parameters)"
   ]
  },
  {
   "cell_type": "code",
   "execution_count": 208,
   "metadata": {},
   "outputs": [
    {
     "name": "stdout",
     "output_type": "stream",
     "text": [
      "[1] [[0.346478]] [[0.5240429]] [[0.15976994]]\n"
     ]
    }
   ],
   "source": [
    "import numpy as np\n",
    "\n",
    "symbol = \"BTCUSDT\"\n",
    "timestamp = 1723816800000 + 60 * 60 * 1000\n",
    "test_klines = env.load_klines(symbol, timestamp)\n",
    "\n",
    "symbol_state = actor.state.symbol_states[symbol]\n",
    "\n",
    "test_obs = np.hstack((test_klines, symbol_state['history']['action_history'], symbol_state['history']['cumulative_reward_history']))\n",
    "\n",
    "actions, action_probs, q_action, v = actor.get_action_values(np.expand_dims(test_obs, axis=0))\n",
    "\n",
    "print(actions, action_probs, q_action, v)"
   ]
  },
  {
   "cell_type": "code",
   "execution_count": 209,
   "metadata": {},
   "outputs": [
    {
     "data": {
      "text/plain": [
       "array([[[0., 0., 0., 0., 0., 0., 0., 0., 0., 0., 0., 0., 0., 0., 0., 0.,\n",
       "         0., 0., 0., 0., 0., 0., 0., 0., 0., 0., 0.],\n",
       "        [0., 0., 0., 0., 0., 0., 0., 0., 0., 0., 0., 0., 0., 0., 0., 0.,\n",
       "         0., 0., 0., 0., 0., 0., 0., 0., 0., 0., 0.],\n",
       "        [0., 0., 0., 0., 0., 0., 0., 0., 0., 0., 0., 0., 0., 0., 0., 0.,\n",
       "         0., 0., 0., 0., 0., 0., 0., 0., 0., 0., 0.],\n",
       "        [0., 0., 0., 0., 0., 0., 0., 0., 0., 0., 0., 0., 0., 0., 0., 0.,\n",
       "         0., 0., 0., 0., 0., 0., 0., 0., 0., 0., 0.],\n",
       "        [0., 0., 0., 0., 0., 0., 0., 0., 0., 0., 0., 0., 0., 0., 0., 0.,\n",
       "         0., 0., 0., 0., 0., 0., 0., 0., 0., 0., 0.],\n",
       "        [0., 0., 0., 0., 0., 0., 0., 0., 0., 0., 0., 0., 0., 0., 0., 0.,\n",
       "         0., 0., 0., 0., 0., 0., 0., 0., 0., 0., 0.],\n",
       "        [0., 0., 0., 0., 0., 0., 0., 0., 0., 0., 0., 0., 0., 0., 0., 0.,\n",
       "         0., 0., 0., 0., 0., 0., 0., 0., 0., 0., 0.],\n",
       "        [0., 0., 0., 0., 0., 0., 0., 0., 0., 0., 0., 0., 0., 0., 0., 0.,\n",
       "         0., 0., 0., 0., 0., 0., 0., 0., 0., 0., 0.],\n",
       "        [0., 0., 0., 0., 0., 0., 0., 0., 0., 0., 0., 0., 0., 0., 0., 0.,\n",
       "         0., 0., 0., 0., 0., 0., 0., 0., 0., 0., 0.],\n",
       "        [0., 0., 0., 0., 0., 0., 0., 0., 0., 0., 0., 0., 0., 0., 0., 0.,\n",
       "         0., 0., 0., 0., 0., 0., 0., 0., 0., 0., 0.],\n",
       "        [0., 0., 0., 0., 0., 0., 0., 0., 0., 0., 0., 0., 0., 0., 0., 0.,\n",
       "         0., 0., 0., 0., 0., 0., 0., 0., 0., 0., 0.],\n",
       "        [0., 0., 0., 0., 0., 0., 0., 0., 0., 0., 0., 0., 0., 0., 0., 0.,\n",
       "         0., 0., 0., 0., 0., 0., 0., 0., 0., 0., 0.],\n",
       "        [0., 0., 0., 0., 0., 0., 0., 0., 0., 0., 0., 0., 0., 0., 0., 0.,\n",
       "         0., 0., 0., 0., 0., 0., 0., 0., 0., 0., 0.],\n",
       "        [0., 0., 0., 0., 0., 0., 0., 0., 0., 0., 0., 0., 0., 0., 0., 0.,\n",
       "         0., 0., 0., 0., 0., 0., 0., 0., 0., 0., 0.],\n",
       "        [0., 0., 0., 0., 0., 0., 0., 0., 0., 0., 0., 0., 0., 0., 0., 0.,\n",
       "         0., 0., 0., 0., 0., 0., 0., 0., 0., 0., 0.],\n",
       "        [0., 0., 0., 0., 0., 0., 0., 0., 0., 0., 0., 0., 0., 0., 0., 0.,\n",
       "         0., 0., 0., 0., 0., 0., 0., 0., 0., 0., 0.],\n",
       "        [0., 0., 0., 0., 0., 0., 0., 0., 0., 0., 0., 0., 0., 0., 0., 0.,\n",
       "         0., 0., 0., 0., 0., 0., 0., 0., 0., 0., 0.],\n",
       "        [0., 0., 0., 0., 0., 0., 0., 0., 0., 0., 0., 0., 0., 0., 0., 0.,\n",
       "         0., 0., 0., 0., 0., 0., 0., 0., 0., 0., 0.],\n",
       "        [0., 0., 0., 0., 0., 0., 0., 0., 0., 0., 0., 0., 0., 0., 0., 0.,\n",
       "         0., 0., 0., 0., 0., 0., 0., 0., 0., 0., 0.],\n",
       "        [0., 0., 0., 0., 0., 0., 0., 0., 0., 0., 0., 0., 0., 0., 0., 0.,\n",
       "         0., 0., 0., 0., 0., 0., 0., 0., 0., 0., 0.],\n",
       "        [0., 0., 0., 0., 0., 0., 0., 0., 0., 0., 0., 0., 0., 0., 0., 0.,\n",
       "         0., 0., 0., 0., 0., 0., 0., 0., 0., 0., 0.],\n",
       "        [0., 0., 0., 0., 0., 0., 0., 0., 0., 0., 0., 0., 0., 0., 0., 0.,\n",
       "         0., 0., 0., 0., 0., 0., 0., 0., 0., 0., 0.],\n",
       "        [0., 0., 0., 0., 0., 0., 0., 0., 0., 0., 0., 0., 0., 0., 0., 0.,\n",
       "         0., 0., 0., 0., 0., 0., 0., 0., 0., 0., 0.],\n",
       "        [0., 0., 0., 0., 0., 0., 0., 0., 0., 0., 0., 0., 0., 0., 0., 0.,\n",
       "         0., 0., 0., 0., 0., 0., 0., 0., 0., 0., 0.],\n",
       "        [0., 0., 0., 0., 0., 0., 0., 0., 0., 0., 0., 0., 0., 0., 0., 0.,\n",
       "         0., 0., 0., 0., 0., 0., 0., 0., 0., 0., 0.],\n",
       "        [0., 0., 0., 0., 0., 0., 0., 0., 0., 0., 0., 0., 0., 0., 0., 0.,\n",
       "         0., 0., 0., 0., 0., 0., 0., 0., 0., 0., 0.],\n",
       "        [0., 0., 0., 0., 0., 0., 0., 0., 0., 0., 0., 0., 0., 0., 0., 0.,\n",
       "         0., 0., 0., 0., 0., 0., 0., 0., 0., 0., 0.]]])"
      ]
     },
     "execution_count": 209,
     "metadata": {},
     "output_type": "execute_result"
    }
   ],
   "source": [
    "test_obs - observations"
   ]
  },
  {
   "cell_type": "code",
   "execution_count": 192,
   "metadata": {},
   "outputs": [
    {
     "data": {
      "text/plain": [
       "array([1.14934313, 1.07618999, 0.87343168, 0.94120127, 0.87614763,\n",
       "       0.86203676, 0.88535237, 0.80819792, 0.79280734, 0.93819809,\n",
       "       0.93819618, 1.02813673, 1.03965807, 1.00857532, 1.05783069,\n",
       "       1.0397681 , 0.98772615, 1.0046376 , 1.11394   , 1.15067935,\n",
       "       1.20061731, 1.20294952, 1.36066103, 1.42758679, 1.35689545,\n",
       "       1.40368509, 1.3716327 ])"
      ]
     },
     "execution_count": 192,
     "metadata": {},
     "output_type": "execute_result"
    }
   ],
   "source": [
    "test_obs[:,0]"
   ]
  },
  {
   "cell_type": "code",
   "execution_count": 193,
   "metadata": {},
   "outputs": [
    {
     "data": {
      "text/plain": [
       "array([1.07618999, 0.87343168, 0.94120127, 0.87614763, 0.86203676,\n",
       "       0.88535237, 0.80819792, 0.79280734, 0.93819809, 0.93819618,\n",
       "       1.02813673, 1.03965807, 1.00857532, 1.05783069, 1.0397681 ,\n",
       "       0.98772615, 1.0046376 , 1.11394   , 1.15067935, 1.20061731,\n",
       "       1.20294952, 1.36066103, 1.42758679, 1.35689545, 1.40368509,\n",
       "       1.3716327 , 1.38436186])"
      ]
     },
     "execution_count": 193,
     "metadata": {},
     "output_type": "execute_result"
    }
   ],
   "source": [
    "observations[0,:,0]"
   ]
  },
  {
   "cell_type": "code",
   "execution_count": 171,
   "metadata": {},
   "outputs": [
    {
     "name": "stdout",
     "output_type": "stream",
     "text": [
      "8 [1 2 3 4 5 6 7 8]\n"
     ]
    }
   ],
   "source": [
    "a = np.array([1,2,3,4,5,6,7,8,9,10])\n",
    "i = np.searchsorted(a, 8.5, side='left')\n",
    "print(i, a[:i])"
   ]
  },
  {
   "cell_type": "code",
   "execution_count": 34,
   "metadata": {},
   "outputs": [
    {
     "data": {
      "text/plain": [
       "231"
      ]
     },
     "execution_count": 34,
     "metadata": {},
     "output_type": "execute_result"
    }
   ],
   "source": [
    "summary = actor.create_action_summary(actions, action_probs, q_action, v, last_klines)\n",
    "len(summary)"
   ]
  },
  {
   "cell_type": "code",
   "execution_count": 35,
   "metadata": {},
   "outputs": [
    {
     "data": {
      "text/plain": [
       "0"
      ]
     },
     "execution_count": 35,
     "metadata": {},
     "output_type": "execute_result"
    }
   ],
   "source": [
    "chosen_symbols = actor.choose_symbols(summary)\n",
    "len(chosen_symbols)"
   ]
  },
  {
   "cell_type": "code",
   "execution_count": 36,
   "metadata": {},
   "outputs": [
    {
     "data": {
      "text/plain": [
       "{}"
      ]
     },
     "execution_count": 36,
     "metadata": {},
     "output_type": "execute_result"
    }
   ],
   "source": [
    "chosen_symbols"
   ]
  },
  {
   "cell_type": "code",
   "execution_count": 13,
   "metadata": {},
   "outputs": [
    {
     "data": {
      "text/plain": [
       "3"
      ]
     },
     "execution_count": 13,
     "metadata": {},
     "output_type": "execute_result"
    }
   ],
   "source": [
    "chosen_actions = actor.update_trading_symbols(chosen_symbols)\n",
    "len(chosen_actions)"
   ]
  },
  {
   "cell_type": "code",
   "execution_count": null,
   "metadata": {},
   "outputs": [],
   "source": [
    "chosen_actions"
   ]
  },
  {
   "cell_type": "code",
   "execution_count": null,
   "metadata": {},
   "outputs": [],
   "source": [
    "chosen_actions = await actor.run()\n",
    "chosen_actions"
   ]
  },
  {
   "cell_type": "markdown",
   "metadata": {},
   "source": [
    "## Testing Random Stuff"
   ]
  },
  {
   "cell_type": "markdown",
   "metadata": {},
   "source": [
    "### instruments info"
   ]
  },
  {
   "cell_type": "code",
   "execution_count": null,
   "metadata": {},
   "outputs": [
    {
     "data": {
      "text/plain": [
       "407"
      ]
     },
     "execution_count": 27,
     "metadata": {},
     "output_type": "execute_result"
    }
   ],
   "source": [
    "import aiohttp\n",
    "\n",
    "base_url = \"https://api.bybit.com/v5/market\"\n",
    "category = \"linear\"\n",
    "\n",
    "async def get_all_symbols():\n",
    "    url = f\"{base_url}/instruments-info\"\n",
    "    params = {\"category\": category}\n",
    "    async with aiohttp.ClientSession() as session:\n",
    "        async with session.get(url, params=params) as response:\n",
    "            data = await response.json()\n",
    "            if data['retCode'] != 0:\n",
    "                print(f\"Error fetching instrument info: {data['retMsg']}\")\n",
    "                return []\n",
    "            return [\n",
    "                {\n",
    "                        'symbol': symbol['symbol'],\n",
    "                        # 'tickSize': float(symbol['priceFilter']['tickSize'])\n",
    "                        # 'all_data': symbol,\n",
    "                        'qtyStep': symbol['lotSizeFilter']['qtyStep'],\n",
    "                    }\n",
    "                    for symbol in data.get('result', {}).get('list', [])\n",
    "                    if symbol['quoteCoin'] == 'USDT'\n",
    "                ]\n",
    "\n",
    "symbols = await get_all_symbols()\n",
    "len(symbols)"
   ]
  },
  {
   "cell_type": "code",
   "execution_count": null,
   "metadata": {},
   "outputs": [],
   "source": [
    "symbols"
   ]
  },
  {
   "cell_type": "markdown",
   "metadata": {},
   "source": [
    "### load numpy klines"
   ]
  },
  {
   "cell_type": "code",
   "execution_count": null,
   "metadata": {},
   "outputs": [
    {
     "name": "stdout",
     "output_type": "stream",
     "text": [
      "Loaded 5 klines for BTC using Unix timestamp\n",
      "Loaded 5 klines for BTC using date-time string\n",
      "\n",
      "Last timestamp (Unix): 1692144000000\n",
      "Last timestamp (String): 1723593600000\n",
      "\n",
      "Last kline data (Unix): [0.639322   0.64027745 0.6321176  0.6323248  9.455806  ]\n",
      "Last kline data (String): [0.9561997  0.9660658  0.9404286  0.94227344 9.944939  ]\n"
     ]
    }
   ],
   "source": [
    "import os\n",
    "import numpy as np\n",
    "from datetime import datetime\n",
    "\n",
    "\n",
    "def load_klines_up_to_time(symbol, target_time, n, interval=\"1 day\"):\n",
    "    # Convert target_time to Unix timestamp if it's a string\n",
    "    if isinstance(target_time, str):\n",
    "        target_timestamp = int(datetime.strptime(target_time, \"%Y-%m-%d %H:%M:%S\").timestamp() * 1000)\n",
    "    else:\n",
    "        target_timestamp = target_time\n",
    "\n",
    "    # Construct file paths\n",
    "    data_dir = f\"../data/klines_processed/{interval}\"  # Adjust this path as needed\n",
    "    data_file = os.path.join(data_dir, f\"{symbol}USDT.npy\")\n",
    "    timestamps_file = os.path.join(data_dir, f\"{symbol}USDT_timestamps.npy\")\n",
    "    \n",
    "    # Load data and timestamps\n",
    "    data = np.load(data_file)\n",
    "    timestamps = np.load(timestamps_file)\n",
    "    \n",
    "    # Find the index of the closest timestamp <= target_timestamp\n",
    "    target_index = np.searchsorted(timestamps, target_timestamp, side='right') - 1\n",
    "    \n",
    "    # Calculate the start index\n",
    "    start_index = max(0, target_index - n + 1)\n",
    "    \n",
    "    # Return the last n klines up to the target timestamp\n",
    "    return data[start_index:target_index+1], timestamps[start_index:target_index+1]\n",
    "\n",
    "\n",
    "# Example usage\n",
    "symbol = \"BTC\"\n",
    "target_time_unix = 1692144000000  # August 16, 2023 00:00:00 UTC\n",
    "target_time_str = \"2024-08-15 23:00:00\"\n",
    "n = 5\n",
    "\n",
    "# Using Unix timestamp\n",
    "klines1, timestamps1 = load_klines_up_to_time(symbol, target_time_unix, n)\n",
    "\n",
    "# Using date-time string\n",
    "klines2, timestamps2 = load_klines_up_to_time(symbol, target_time_str, n)\n",
    "\n",
    "print(f\"Loaded {len(klines1)} klines for {symbol} using Unix timestamp\")\n",
    "print(f\"Loaded {len(klines2)} klines for {symbol} using date-time string\")\n",
    "print(\"\\nLast timestamp (Unix):\", timestamps1[-1])\n",
    "print(\"Last timestamp (String):\", timestamps2[-1])\n",
    "print(\"\\nLast kline data (Unix):\", klines1[-1])\n",
    "print(\"Last kline data (String):\", klines2[-1])"
   ]
  },
  {
   "cell_type": "code",
   "execution_count": null,
   "metadata": {},
   "outputs": [
    {
     "data": {
      "text/plain": [
       "array([[ 0.9580324 ,  0.9626143 ,  0.9537848 ,  0.9585948 ,  9.487782  ],\n",
       "       [ 0.9585948 ,  0.9655727 ,  0.9394227 ,  0.9426857 ,  9.777961  ],\n",
       "       [ 0.9426857 ,  0.9571503 ,  0.9341055 ,  0.94719505, 10.067209  ],\n",
       "       [ 0.94719505,  0.96343887,  0.9402865 ,  0.9561997 ,  9.913214  ],\n",
       "       [ 0.9561997 ,  0.9660658 ,  0.9404286 ,  0.94227344,  9.944939  ]],\n",
       "      dtype=float32)"
      ]
     },
     "execution_count": 5,
     "metadata": {},
     "output_type": "execute_result"
    }
   ],
   "source": [
    "klines2"
   ]
  },
  {
   "cell_type": "code",
   "execution_count": null,
   "metadata": {},
   "outputs": [
    {
     "data": {
      "text/plain": [
       "dtype('int64')"
      ]
     },
     "execution_count": 22,
     "metadata": {},
     "output_type": "execute_result"
    }
   ],
   "source": [
    "timestamps1"
   ]
  },
  {
   "cell_type": "markdown",
   "metadata": {},
   "source": [
    "### kline function"
   ]
  },
  {
   "cell_type": "code",
   "execution_count": null,
   "metadata": {},
   "outputs": [
    {
     "name": "stdout",
     "output_type": "stream",
     "text": [
      "Main data folder created: ../data\n",
      "Interval folders created successfully.\n"
     ]
    }
   ],
   "source": [
    "from data_handler import DataHandler\n",
    "handler = DataHandler()"
   ]
  },
  {
   "cell_type": "code",
   "execution_count": null,
   "metadata": {},
   "outputs": [],
   "source": [
    "symbol = \"BCHUSDT\"\n",
    "interval = \"1 day\"\n",
    "length = 3\n",
    "handler.fetch_kline_data(symbol, interval, length=length)"
   ]
  },
  {
   "cell_type": "code",
   "execution_count": null,
   "metadata": {},
   "outputs": [
    {
     "data": {
      "text/plain": [
       "3"
      ]
     },
     "execution_count": 23,
     "metadata": {},
     "output_type": "execute_result"
    }
   ],
   "source": [
    "response = handler.session.get_kline(\n",
    "                    category=handler.category,\n",
    "                    symbol=\"BCHUSDT\",\n",
    "                    interval=handler.all_intervals[\"1 hour\"],\n",
    "                    start=1607904000000,\n",
    "                    end=None,\n",
    "                    limit=3\n",
    "                )\n",
    "len(response['result']['list'])"
   ]
  },
  {
   "cell_type": "code",
   "execution_count": null,
   "metadata": {},
   "outputs": [],
   "source": [
    "response"
   ]
  },
  {
   "cell_type": "markdown",
   "metadata": {},
   "source": [
    "### unix / datetime"
   ]
  },
  {
   "cell_type": "code",
   "execution_count": 105,
   "metadata": {},
   "outputs": [
    {
     "name": "stdout",
     "output_type": "stream",
     "text": [
      "1726437600000  -->  2024-09-15 22:00:00\n",
      "2024-09-15 23:00:00  -->  1726441200000\n"
     ]
    }
   ],
   "source": [
    "from datetime import datetime, timezone\n",
    "\n",
    "def date_to_unix_time(date_str):\n",
    "    dt = datetime.strptime(date_str, '%Y-%m-%d %H:%M:%S')\n",
    "    dt = dt.replace(tzinfo=timezone.utc)\n",
    "    return int(dt.timestamp() * 1000)\n",
    "\n",
    "unix_time = 1726437600000\n",
    "date = datetime.fromtimestamp(unix_time / 1000, tz=timezone.utc).strftime('%Y-%m-%d %H:%M:%S')\n",
    "print(f\"{unix_time}  -->  {date}\")\n",
    "\n",
    "date_str = \"2024-09-15 23:00:00\"\n",
    "unix_time_back = date_to_unix_time(date_str)\n",
    "print(f\"{date_str}  -->  {unix_time_back}\")"
   ]
  },
  {
   "cell_type": "markdown",
   "metadata": {},
   "source": [
    "### ccxt"
   ]
  },
  {
   "cell_type": "code",
   "execution_count": null,
   "metadata": {},
   "outputs": [],
   "source": [
    "import configs_trader as configs\n",
    "\n",
    "import ccxt\n",
    "\n",
    "# Initialize the Bybit exchange\n",
    "exchange = ccxt.bybit({\n",
    "    'apiKey': 'configs.API_KEY',\n",
    "    'secret': 'configs.API_SECRET',\n",
    "    'enableRateLimit': True,\n",
    "    'options': {\n",
    "        'defaultType': 'linear',\n",
    "        'adjustForTimeDifference': True,\n",
    "        'timeDifference': 2000\n",
    "    }\n",
    "})"
   ]
  },
  {
   "cell_type": "code",
   "execution_count": null,
   "metadata": {},
   "outputs": [],
   "source": [
    "markets = exchange.load_markets()"
   ]
  },
  {
   "cell_type": "code",
   "execution_count": null,
   "metadata": {},
   "outputs": [
    {
     "data": {
      "text/plain": [
       "2453"
      ]
     },
     "execution_count": 7,
     "metadata": {},
     "output_type": "execute_result"
    }
   ],
   "source": [
    "# Fetch markets\n",
    "markets = exchange.fetchMarkets()\n",
    "len(markets)"
   ]
  },
  {
   "cell_type": "code",
   "execution_count": null,
   "metadata": {},
   "outputs": [],
   "source": [
    "markets[2]"
   ]
  },
  {
   "cell_type": "code",
   "execution_count": null,
   "metadata": {},
   "outputs": [
    {
     "name": "stdout",
     "output_type": "stream",
     "text": [
      "Current price of BTC/USDT: 58299.2\n",
      "USDT Balance: 53.91378734\n"
     ]
    }
   ],
   "source": [
    "# Fetch markets\n",
    "markets = exchange.load_markets()\n",
    "\n",
    "# Get ticker for a specific symbol\n",
    "symbol = 'BTC/USDT'\n",
    "ticker = exchange.fetch_ticker(symbol)\n",
    "\n",
    "print(f\"Current price of {symbol}: {ticker['last']}\")\n",
    "\n",
    "# Fetch account balance\n",
    "balance = exchange.fetch_balance()\n",
    "print(f\"USDT Balance: {balance['USDT']['free']}\")\n",
    "\n",
    "# Place a market order (be cautious with real accounts)\n",
    "# order = exchange.create_market_buy_order(symbol, 0.001)  # Buy 0.001 BTC\n",
    "# print(order)"
   ]
  }
 ],
 "metadata": {
  "kernelspec": {
   "display_name": "S5",
   "language": "python",
   "name": "python3"
  },
  "language_info": {
   "codemirror_mode": {
    "name": "ipython",
    "version": 3
   },
   "file_extension": ".py",
   "mimetype": "text/x-python",
   "name": "python",
   "nbconvert_exporter": "python",
   "pygments_lexer": "ipython3",
   "version": "3.11.8"
  }
 },
 "nbformat": 4,
 "nbformat_minor": 2
}
